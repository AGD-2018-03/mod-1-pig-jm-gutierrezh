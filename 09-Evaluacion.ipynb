{
 "cells": [
  {
   "cell_type": "markdown",
   "metadata": {},
   "source": [
    "**Recuerde no agregar o quitar celdas en este notebook, ni modificar su tipo. Si lo hace, el sistema automaticamente lo calificará con cero punto cero (0.0)**"
   ]
  },
  {
   "cell_type": "markdown",
   "metadata": {},
   "source": [
    "Use el siguiente conjunto de datos para resolver los problemas propuestos. Use [gradetool](gradetool.md) para verificar las respuestas del notebook."
   ]
  },
  {
   "cell_type": "code",
   "execution_count": null,
   "metadata": {},
   "outputs": [],
   "source": [
    "%%writefile data.csv\n",
    "1,Vivian,Hamilton,1971-07-08,green,1\n",
    "2,Karen,Holcomb,1974-05-23,green,4\n",
    "3,Cody,Garrett,1973-04-22,orange,1\n",
    "4,Roth,Fry,1975-01-29,black,1\n",
    "5,Zoe,Conway,1974-07-03,blue,2\n",
    "6,Gretchen,Kinney,1974-10-18,viole,1\n",
    "7,Driscoll,Klein,1970-10-05,blue,5\n",
    "8,Karyn,Diaz,1969-02-24,red,1\n",
    "9,Merritt,Guy,1974-10-17,indigo,4\n",
    "10,Kylan,Sexton,1975-02-28,black,4\n",
    "11,Jordan,Estes,1969-12-07,indigo,4\n",
    "12,Hope,Coffey,1973-12-24,green,5\n",
    "13,Vivian,Crane,1970-08-27,gray,5\n",
    "14,Clio,Noel,1972-12-12,red,5\n",
    "15,Hope,Silva,1970-07-01,blue,5\n",
    "16,Ayanna,Jarvis,1974-02-11,orange,5\n",
    "17,Chanda,Boyer,1973-04-01,green,4\n",
    "18,Chadwick,Knight,1973-04-29,yellow,1"
   ]
  },
  {
   "cell_type": "code",
   "execution_count": null,
   "metadata": {},
   "outputs": [],
   "source": [
    "%load_ext bigdata\n",
    "%pig_init"
   ]
  },
  {
   "cell_type": "code",
   "execution_count": null,
   "metadata": {
    "scrolled": true
   },
   "outputs": [],
   "source": [
    "%%pig\n",
    "u = LOAD 'data.csv' USING PigStorage(',') \n",
    "    AS (id:int, \n",
    "        firstname:CHARARRAY, \n",
    "        surname:CHARARRAY, \n",
    "        birthday:CHARARRAY, \n",
    "        color:CHARARRAY, \n",
    "        quantity:INT);"
   ]
  },
  {
   "cell_type": "markdown",
   "metadata": {},
   "source": [
    "## Pregunta 1\n",
    "\n",
    "Escriba una consulta en Pig que genere la siguiente salida:\n",
    "\n",
    "    (Vivian@Hamilton)\n",
    "    (Karen@Holcomb)\n",
    "    (Cody@Garrett)\n",
    "    (Roth@Fry)\n",
    "    (Zoe@Conway)\n",
    "    (Gretchen@Kinney)\n",
    "    (Driscoll@Klein)\n",
    "    (Karyn@Diaz)\n",
    "    (Merritt@Guy)\n",
    "    (Kylan@Sexton)\n",
    "    (Jordan@Estes)\n",
    "    (Hope@Coffey)\n",
    "    (Vivian@Crane)\n",
    "    (Clio@Noel)\n",
    "    (Hope@Silva)\n",
    "    (Ayanna@Jarvis)\n",
    "    (Chanda@Boyer)\n",
    "    (Chadwick@Knight)"
   ]
  },
  {
   "cell_type": "code",
   "execution_count": null,
   "metadata": {},
   "outputs": [],
   "source": [
    "%%pig\n",
    "-- >>> Write your answer here <<<"
   ]
  },
  {
   "cell_type": "markdown",
   "metadata": {},
   "source": [
    "## Pregunta 2\n",
    "\n",
    "Genere una relación con el apellido y su longitud. Ordene por longitud y por apellido. Obtenga la siguiente salida.\n",
    "\n",
    "    (Hamilton,8)\n",
    "    (Garrett,7)\n",
    "    (Holcomb,7)\n",
    "    (Coffey,6)\n",
    "    (Conway,6)"
   ]
  },
  {
   "cell_type": "code",
   "execution_count": null,
   "metadata": {},
   "outputs": [],
   "source": [
    "%%pig\n",
    "-- >>> Write your answer here <<<"
   ]
  },
  {
   "cell_type": "markdown",
   "metadata": {},
   "source": [
    "## Pregunta 3\n",
    "\n",
    "Escriba el código que genere la siguiente salida.\n",
    "\n",
    "    (Hamilton,HAMILTON,hamilton)\n",
    "    (Holcomb,HOLCOMB,holcomb)\n",
    "    (Garrett,GARRETT,garrett)\n",
    "    (Fry,FRY,fry)\n",
    "    (Conway,CONWAY,conway)"
   ]
  },
  {
   "cell_type": "code",
   "execution_count": null,
   "metadata": {},
   "outputs": [],
   "source": [
    "%%pig\n",
    "-- >>> Write your answer here <<<"
   ]
  },
  {
   "cell_type": "markdown",
   "metadata": {},
   "source": [
    "## Pregunta 4\n",
    "\n",
    "Obtenga los apellidos que empiecen por las letras entre la 'd' y la 'k'. La salida esperada es la siguiente:\n",
    "\n",
    "    (Hamilton)\n",
    "    (Holcomb)\n",
    "    (Garrett)\n",
    "    (Fry)\n",
    "    (Kinney)\n",
    "    (Klein)\n",
    "    (Diaz)\n",
    "    (Guy)\n",
    "    (Estes)\n",
    "    (Jarvis)\n",
    "    (Knight)"
   ]
  },
  {
   "cell_type": "code",
   "execution_count": null,
   "metadata": {},
   "outputs": [],
   "source": [
    "%%pig\n",
    "-- >>> Write your answer here <<<"
   ]
  },
  {
   "cell_type": "markdown",
   "metadata": {},
   "source": [
    "## Pregunta 5\n",
    "\n",
    "Escriba el código equivalente a la siguiente consulta en SQL.\n",
    "\n",
    "    SELECT\n",
    "        color\n",
    "    FROM \n",
    "        u \n",
    "    WHERE \n",
    "        color \n",
    "    LIKE 'b%';"
   ]
  },
  {
   "cell_type": "code",
   "execution_count": null,
   "metadata": {},
   "outputs": [],
   "source": [
    "%%pig\n",
    "-- >>> Write your answer here <<<"
   ]
  },
  {
   "cell_type": "markdown",
   "metadata": {},
   "source": [
    "## Pregunta 6\n",
    "\n",
    "Escriba el código equivalente a la siguiente consulta SQL.\n",
    "\n",
    "    SELECT \n",
    "        color \n",
    "    FROM \n",
    "        u \n",
    "    WHERE \n",
    "        color NOT LIKE 'b%';"
   ]
  },
  {
   "cell_type": "code",
   "execution_count": null,
   "metadata": {},
   "outputs": [],
   "source": [
    "%%pig\n",
    "-- >>> Write your answer here <<<"
   ]
  },
  {
   "cell_type": "markdown",
   "metadata": {},
   "source": [
    "## Pregunta 7\n",
    "\n",
    "Escriba el código equivalente a la siguiente consulta SQL.\n",
    "\n",
    "    SELECT \n",
    "        firstname,\n",
    "        color\n",
    "    FROM \n",
    "        u \n",
    "    WHERE color = 'blue' AND firstname LIKE 'Z%';"
   ]
  },
  {
   "cell_type": "code",
   "execution_count": null,
   "metadata": {},
   "outputs": [],
   "source": [
    "%%pig\n",
    "-- >>> Write your answer here <<<"
   ]
  },
  {
   "cell_type": "markdown",
   "metadata": {},
   "source": [
    "## Pregunta 8\n",
    "\n",
    "Escriba el código equivalente a la siguiente consulta SQL.\n",
    "\n",
    "    SELECT\n",
    "        firstname,\n",
    "        color\n",
    "    FROM \n",
    "        u\n",
    "    WHERE color = 'blue' OR firstname LIKE 'K%';"
   ]
  },
  {
   "cell_type": "code",
   "execution_count": null,
   "metadata": {},
   "outputs": [],
   "source": [
    "%%pig\n",
    "-- >>> Write your answer here <<<"
   ]
  },
  {
   "cell_type": "markdown",
   "metadata": {},
   "source": [
    "## Pregunta 9\n",
    "\n",
    "Escriba el código equivalente a la siguiente consulta SQL.\n",
    "\n",
    "    SELECT \n",
    "        firstname, color \n",
    "    FROM \n",
    "        u\n",
    "    WHERE color IN ('blue','black');"
   ]
  },
  {
   "cell_type": "code",
   "execution_count": null,
   "metadata": {},
   "outputs": [],
   "source": [
    "%%pig\n",
    "-- >>> Write your answer here <<<"
   ]
  },
  {
   "cell_type": "markdown",
   "metadata": {},
   "source": [
    "## Pregunta 10\n",
    "\n",
    "Escriba el código equivalente a la siguiente consulta SQL.\n",
    "\n",
    "    SELECT \n",
    "        firstname, \n",
    "        color \n",
    "    FROM \n",
    "        u \n",
    "    WHERE color NOT IN ('blue','black');"
   ]
  },
  {
   "cell_type": "code",
   "execution_count": null,
   "metadata": {},
   "outputs": [],
   "source": [
    "%%pig\n",
    "-- >>> Write your answer here <<<"
   ]
  },
  {
   "cell_type": "markdown",
   "metadata": {},
   "source": [
    "## Pregunta 11\n",
    "\n",
    "Escriba el código equivalente a la siguiente consulta SQL.\n",
    "\n",
    "    SELECT\n",
    "        firstname,\n",
    "        color\n",
    "    FROM \n",
    "        u \n",
    "    WHERE \n",
    "        color REGEXP '^b';"
   ]
  },
  {
   "cell_type": "code",
   "execution_count": null,
   "metadata": {},
   "outputs": [],
   "source": [
    "%%pig\n",
    "-- >>> Write your answer here <<<"
   ]
  },
  {
   "cell_type": "markdown",
   "metadata": {},
   "source": [
    "## Pregunta 12\n",
    "\n",
    "Escriba el código equivalente a la siguiente consulta SQL.\n",
    "\n",
    "    SELECT\n",
    "        firstname,\n",
    "        color\n",
    "    FROM \n",
    "        u \n",
    "    WHERE \n",
    "        color REGEXP '^[^b]';"
   ]
  },
  {
   "cell_type": "code",
   "execution_count": null,
   "metadata": {},
   "outputs": [],
   "source": [
    "%%pig\n",
    "-- >>> Write your answer here <<<"
   ]
  },
  {
   "cell_type": "markdown",
   "metadata": {},
   "source": [
    "## Pregunta 13\n",
    "\n",
    "Escriba el código equivalente a la siguiente consulta SQL.\n",
    "\n",
    "    SELECT \n",
    "        firstname,\n",
    "        color\n",
    "    FROM \n",
    "        u\n",
    "    WHERE \n",
    "        color REGEXP 'blue|green';"
   ]
  },
  {
   "cell_type": "code",
   "execution_count": null,
   "metadata": {},
   "outputs": [],
   "source": [
    "%%pig\n",
    "-- >>> Write your answer here <<<"
   ]
  },
  {
   "cell_type": "markdown",
   "metadata": {},
   "source": [
    "## Pregunta 14\n",
    "\n",
    "Escriba el código equivalente a la siguiente consulta SQL.\n",
    "\n",
    "    SELECT \n",
    "        firstname,\n",
    "        color\n",
    "    FROM \n",
    "        u\n",
    "    WHERE \n",
    "        color REGEXP '.n';"
   ]
  },
  {
   "cell_type": "code",
   "execution_count": null,
   "metadata": {},
   "outputs": [],
   "source": [
    "%%pig\n",
    "-- >>> Write your answer here <<<"
   ]
  },
  {
   "cell_type": "markdown",
   "metadata": {},
   "source": [
    "## Pregunta 15\n",
    "\n",
    "Escriba el código equivalente a la siguiente consulta SQL.\n",
    "\n",
    "    SELECT \n",
    "        firstname,\n",
    "        color \n",
    "    FROM \n",
    "        u \n",
    "    WHERE \n",
    "        color REGEXP '[aeiou]$';"
   ]
  },
  {
   "cell_type": "code",
   "execution_count": null,
   "metadata": {},
   "outputs": [],
   "source": [
    "%%pig\n",
    "-- >>> Write your answer here <<<"
   ]
  },
  {
   "cell_type": "markdown",
   "metadata": {},
   "source": [
    "## Pregunta 16\n",
    "\n",
    "Escriba el código equivalente a la siguiente consulta SQL.\n",
    "\n",
    "    SELECT \n",
    "        REGEX_EXTRACT(birthday, '....-..-..', 2) \n",
    "    FROM \n",
    "        u;"
   ]
  },
  {
   "cell_type": "code",
   "execution_count": null,
   "metadata": {},
   "outputs": [],
   "source": [
    "%%pig\n",
    "-- >>> Write your answer here <<<"
   ]
  },
  {
   "cell_type": "markdown",
   "metadata": {},
   "source": [
    "## Pregunta 17\n",
    "\n",
    "Escriba el código equivalente a la siguiente consulta SQL.\n",
    "\n",
    "    SELECT  \n",
    "        firstname,\n",
    "        SUBSTRING_INDEX(firstname, 'a', 1)\n",
    "    FROM \n",
    "        u;"
   ]
  },
  {
   "cell_type": "code",
   "execution_count": null,
   "metadata": {},
   "outputs": [],
   "source": [
    "%%pig\n",
    "-- >>> Write your answer here <<<"
   ]
  },
  {
   "cell_type": "markdown",
   "metadata": {},
   "source": [
    "## Pregunta 18\n",
    "\n",
    "Escriba el código equivalente a la siguiente consulta SQL.\n",
    "\n",
    "    SELECT \n",
    "        firstname \n",
    "    FROM \n",
    "        u \n",
    "    WHERE \n",
    "        SUBSTRING(firstname, 0, 1) >= 'm';"
   ]
  },
  {
   "cell_type": "code",
   "execution_count": null,
   "metadata": {},
   "outputs": [],
   "source": [
    "%%pig\n",
    "-- >>> Write your answer here <<<"
   ]
  },
  {
   "cell_type": "markdown",
   "metadata": {},
   "source": [
    "## Pregunta 19\n",
    "\n",
    "Escriba el código equivalente a la siguiente consulta SQL.\n",
    "\n",
    "    SELECT \n",
    "        firstname, \n",
    "        LOCATE('ia', firstname) \n",
    "    FROM \n",
    "        u;"
   ]
  },
  {
   "cell_type": "code",
   "execution_count": null,
   "metadata": {},
   "outputs": [],
   "source": [
    "%%pig\n",
    "-- >>> Write your answer here <<<"
   ]
  },
  {
   "cell_type": "markdown",
   "metadata": {},
   "source": [
    "## Pregunta 20\n",
    "\n",
    "Escriba el código en Pig para manipulación de fechas que genere sea equivalente a la siguiente consulta SQL.\n",
    "\n",
    "    SELECT \n",
    "        birthday, \n",
    "        DATE_FORMAT(birthday, \"yyyy\"),\n",
    "        DATE_FORMAT(birthday, \"yy\"),\n",
    "    FROM \n",
    "        persons\n",
    "    LIMIT\n",
    "        5;"
   ]
  },
  {
   "cell_type": "code",
   "execution_count": null,
   "metadata": {},
   "outputs": [],
   "source": [
    "%%pig\n",
    "-- >>> Write your answer here <<<"
   ]
  },
  {
   "cell_type": "markdown",
   "metadata": {},
   "source": [
    "## Pregunta 21\n",
    "\n",
    "Escriba el código en Pig para manipulación de fechas que genere la siguiente salida.\n",
    "\n",
    "    (1971-07-08,jul,07,7)\n",
    "    (1974-05-23,may,05,5)\n",
    "    (1973-04-22,abr,04,4)\n",
    "    (1975-01-29,ene,01,1)\n",
    "    (1974-07-03,jul,07,7)\n",
    "    (1974-10-18,oct,10,10)\n",
    "    (1970-10-05,oct,10,10)\n",
    "    (1969-02-24,feb,02,2)\n",
    "    (1974-10-17,oct,10,10)\n",
    "    (1975-02-28,feb,02,2)\n",
    "    (1969-12-07,dic,12,12)\n",
    "    (1973-12-24,dic,12,12)\n",
    "    (1970-08-27,ago,08,8)\n",
    "    (1972-12-12,dic,12,12)\n",
    "    (1970-07-01,jul,07,7)\n",
    "    (1974-02-11,feb,02,2)\n",
    "    (1973-04-01,abr,04,4)\n",
    "    (1973-04-29,abr,04,4)"
   ]
  },
  {
   "cell_type": "code",
   "execution_count": null,
   "metadata": {},
   "outputs": [],
   "source": [
    "%%pig\n",
    "-- >>> Write your answer here <<<"
   ]
  },
  {
   "cell_type": "markdown",
   "metadata": {},
   "source": [
    "## Pregunta 22\n",
    "\n",
    "Escriba el código en Pig para manipulación de fechas que genere la siguiente salida:\n",
    "\n",
    "    (1971-07-08,08,8,jue,jueves)\n",
    "    (1974-05-23,23,23,jue,jueves)\n",
    "    (1973-04-22,22,22,dom,domingo)\n",
    "    (1975-01-29,29,29,mié,miércoles)\n",
    "    (1974-07-03,03,3,mié,miércoles)\n",
    "    (1974-10-18,18,18,vie,viernes)\n",
    "    (1970-10-05,05,5,lun,lunes)\n",
    "    (1969-02-24,24,24,lun,lunes)\n",
    "    (1974-10-17,17,17,jue,jueves)\n",
    "    (1975-02-28,28,28,vie,viernes)\n",
    "    (1969-12-07,07,7,dom,domingo)\n",
    "    (1973-12-24,24,24,lun,lunes)\n",
    "    (1970-08-27,27,27,jue,jueves)\n",
    "    (1972-12-12,12,12,mar,martes)\n",
    "    (1970-07-01,01,1,mié,miércoles)\n",
    "    (1974-02-11,11,11,lun,lunes)\n",
    "    (1973-04-01,01,1,dom,domingo)\n",
    "    (1973-04-29,29,29,dom,domingo)"
   ]
  },
  {
   "cell_type": "code",
   "execution_count": null,
   "metadata": {},
   "outputs": [],
   "source": [
    "%%pig\n",
    "-- >>> Write your answer here <<<"
   ]
  },
  {
   "cell_type": "markdown",
   "metadata": {},
   "source": [
    "## Pregunta 23\n",
    "\n",
    "Cuente la cantidad de personas nacidas por año."
   ]
  },
  {
   "cell_type": "code",
   "execution_count": null,
   "metadata": {},
   "outputs": [],
   "source": [
    "%%pig\n",
    "-- >>> Write your answer here <<<"
   ]
  },
  {
   "cell_type": "markdown",
   "metadata": {},
   "source": [
    "---"
   ]
  },
  {
   "cell_type": "code",
   "execution_count": null,
   "metadata": {},
   "outputs": [],
   "source": [
    "!rm pig_* data.csv"
   ]
  },
  {
   "cell_type": "markdown",
   "metadata": {},
   "source": [
    "---"
   ]
  }
 ],
 "metadata": {
  "kernelspec": {
   "display_name": "Python 3",
   "language": "python",
   "name": "python3"
  },
  "language_info": {
   "codemirror_mode": {
    "name": "ipython",
    "version": 3
   },
   "file_extension": ".py",
   "mimetype": "text/x-python",
   "name": "python",
   "nbconvert_exporter": "python",
   "pygments_lexer": "ipython3",
   "version": "3.5.2"
  }
 },
 "nbformat": 4,
 "nbformat_minor": 2
}
